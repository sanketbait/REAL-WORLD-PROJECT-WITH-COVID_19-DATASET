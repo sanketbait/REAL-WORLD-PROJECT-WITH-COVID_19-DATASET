{
  "nbformat": 4,
  "nbformat_minor": 0,
  "metadata": {
    "colab": {
      "name": "Project4_with _ covid_19_dataset.ipynb",
      "provenance": [],
      "collapsed_sections": []
    },
    "kernelspec": {
      "name": "python3",
      "display_name": "Python 3"
    },
    "language_info": {
      "name": "python"
    }
  },
  "cells": [
    {
      "cell_type": "markdown",
      "source": [
        "WORKING ON REAL PROJECT WITH PYTHON ON \"COVID-19\" DATASET\n",
        "\n",
        "\"COVID-19\" SMALL DATASET "
      ],
      "metadata": {
        "id": "sHrscMuX0FUH"
      }
    },
    {
      "cell_type": "code",
      "source": [
        "import pandas as pd\n",
        "import numpy as np\n",
        "import seaborn as sns \n",
        "import matplotlib.pyplot as plt\n"
      ],
      "metadata": {
        "id": "yDglpiZsaZWU"
      },
      "execution_count": null,
      "outputs": []
    },
    {
      "cell_type": "code",
      "source": [
        "data = pd.read_csv(\"/content/4. covid_19_data.csv\")"
      ],
      "metadata": {
        "id": "Qbwxg777arAc"
      },
      "execution_count": null,
      "outputs": []
    },
    {
      "cell_type": "code",
      "source": [
        "data\n",
        "data.describe()"
      ],
      "metadata": {
        "id": "FhYVAiRnaxy_"
      },
      "execution_count": null,
      "outputs": []
    },
    {
      "cell_type": "code",
      "source": [
        "data.shape"
      ],
      "metadata": {
        "id": "4NXdqwmKa3-b"
      },
      "execution_count": null,
      "outputs": []
    },
    {
      "cell_type": "code",
      "source": [
        "data.isnull().sum()"
      ],
      "metadata": {
        "id": "NOUwP9cUa8zm"
      },
      "execution_count": null,
      "outputs": []
    },
    {
      "cell_type": "code",
      "source": [
        "data[\"State\"]\n",
        "\n"
      ],
      "metadata": {
        "id": "xynJPKyhbDbS"
      },
      "execution_count": null,
      "outputs": []
    },
    {
      "cell_type": "code",
      "source": [
        "data[\"State\"].fillna(np.nan, inplace = True)\n"
      ],
      "metadata": {
        "id": "zVYmFx60b-qR"
      },
      "execution_count": null,
      "outputs": []
    },
    {
      "cell_type": "code",
      "source": [
        "data.replace(to_replace = \"OTHERS\", value = np.nan, inplace = True)"
      ],
      "metadata": {
        "id": "_f2utzIOct2O"
      },
      "execution_count": null,
      "outputs": []
    },
    {
      "cell_type": "code",
      "source": [
        "data[\"State\"].fillna(\"NO STATE\", inplace = True)"
      ],
      "metadata": {
        "id": "nK-FyMlLdRJt"
      },
      "execution_count": null,
      "outputs": []
    },
    {
      "cell_type": "code",
      "source": [
        "data\n"
      ],
      "metadata": {
        "id": "MjvlY-fkcdVk"
      },
      "execution_count": null,
      "outputs": []
    },
    {
      "cell_type": "code",
      "source": [
        "data.isnull().sum()"
      ],
      "metadata": {
        "id": "FAK4kY_sfkt2"
      },
      "execution_count": null,
      "outputs": []
    },
    {
      "cell_type": "code",
      "source": [
        "data.count()"
      ],
      "metadata": {
        "id": "XVbyfiQ5fwkq"
      },
      "execution_count": null,
      "outputs": []
    },
    {
      "cell_type": "code",
      "source": [
        "sns.heatmap(data.isnull())\n",
        "plt.show()"
      ],
      "metadata": {
        "id": "OT4itZMhf95i"
      },
      "execution_count": null,
      "outputs": []
    },
    {
      "cell_type": "markdown",
      "source": [
        "Q)1. SHOW THE NUMBER OF COMFIRMED, DEATHS AND RECOVRED CASES IN EACH REGION ?"
      ],
      "metadata": {
        "id": "QSIO-2sR0aB4"
      }
    },
    {
      "cell_type": "code",
      "source": [
        "data.columns"
      ],
      "metadata": {
        "id": "qJRpXBrfd7pk"
      },
      "execution_count": null,
      "outputs": []
    },
    {
      "cell_type": "code",
      "source": [
        "data[\"Region\"].value_counts()"
      ],
      "metadata": {
        "id": "-md2b-3NgvxK"
      },
      "execution_count": null,
      "outputs": []
    },
    {
      "cell_type": "code",
      "source": [
        "data.groupby(\"Region\").sum().head(50)"
      ],
      "metadata": {
        "id": "6qrkbS4fhB2z"
      },
      "execution_count": null,
      "outputs": []
    },
    {
      "cell_type": "code",
      "source": [
        "data.groupby(\"Region\")[\"Confirmed\"].sum().sort_values(ascending= False)"
      ],
      "metadata": {
        "id": "D3iRvwvWqCD5"
      },
      "execution_count": null,
      "outputs": []
    },
    {
      "cell_type": "code",
      "source": [
        "data.groupby(\"Region\")[\"Confirmed\",\"Deaths\",\"Recovered\"].sum()"
      ],
      "metadata": {
        "id": "7xllFzXlhdzF"
      },
      "execution_count": null,
      "outputs": []
    },
    {
      "cell_type": "markdown",
      "source": [
        "Q)2. REMOVE ALL THE RECORDS WHERE COMFIRMED CASES ISLESS THAN 10."
      ],
      "metadata": {
        "id": "gfPfQX1L1GHm"
      }
    },
    {
      "cell_type": "code",
      "source": [
        "data.columns"
      ],
      "metadata": {
        "id": "VkuMYp9eqbbx"
      },
      "execution_count": null,
      "outputs": []
    },
    {
      "cell_type": "code",
      "source": [
        "data[data[\"Confirmed\"] < 10]"
      ],
      "metadata": {
        "id": "n08BxHw8qXho"
      },
      "execution_count": null,
      "outputs": []
    },
    {
      "cell_type": "code",
      "source": [
        "data = data[~(data.Confirmed < 10)]"
      ],
      "metadata": {
        "id": "kVgkZXyBqwpY"
      },
      "execution_count": null,
      "outputs": []
    },
    {
      "cell_type": "markdown",
      "source": [
        "Q)3. IN WHICH REGION, MAXIMUM NUMBER OF COMFIRMED CASES WERE RECORDED ?"
      ],
      "metadata": {
        "id": "bAlAMszv1Y5P"
      }
    },
    {
      "cell_type": "code",
      "source": [
        "data.columns\n"
      ],
      "metadata": {
        "id": "NTWEY5VYrIA6"
      },
      "execution_count": null,
      "outputs": []
    },
    {
      "cell_type": "code",
      "source": [
        "data\n"
      ],
      "metadata": {
        "id": "8FZbjMbOswv-"
      },
      "execution_count": null,
      "outputs": []
    },
    {
      "cell_type": "code",
      "source": [
        "data.groupby(\"Region\")[\"Confirmed\"].sum().sort_values(ascending = False).head(20)"
      ],
      "metadata": {
        "id": "kDMkkTOyrcNm"
      },
      "execution_count": null,
      "outputs": []
    },
    {
      "cell_type": "code",
      "source": [
        "data.groupby(\"Region\").Confirmed.sum().sort_values(ascending = False).head(20)"
      ],
      "metadata": {
        "id": "S-xWWBspuSPE"
      },
      "execution_count": null,
      "outputs": []
    },
    {
      "cell_type": "markdown",
      "source": [
        "Q)4. IN WHICH REGION, MAXIMUM NUMBER OF WERE DEATHS CASES ARE RECORDED ?\n"
      ],
      "metadata": {
        "id": "FUcLr6Yu1qgB"
      }
    },
    {
      "cell_type": "code",
      "source": [
        "data.groupby(\"Region\")[\"Deaths\"].sum().sort_values(ascending = False).head(20)"
      ],
      "metadata": {
        "id": "dVaDYsXMrY6Z"
      },
      "execution_count": null,
      "outputs": []
    },
    {
      "cell_type": "code",
      "source": [
        "data.groupby(\"Region\").Deaths.sum().sort_values(ascending = False).head(20)"
      ],
      "metadata": {
        "id": "16JTc67YuXRH"
      },
      "execution_count": null,
      "outputs": []
    },
    {
      "cell_type": "markdown",
      "source": [
        "Q)5. HOW MANY COMFIRMED,deaths and recorded CASES WERE REPORTED FROM INDIA TILL 29 APRIL 2020 ?\n"
      ],
      "metadata": {
        "id": "1ZzxxLP32A5r"
      }
    },
    {
      "cell_type": "code",
      "source": [
        "data[data[\"Region\"] == \"India\"] "
      ],
      "metadata": {
        "id": "yi9zER4Au0Dg"
      },
      "execution_count": null,
      "outputs": []
    },
    {
      "cell_type": "markdown",
      "source": [
        "Q)6 SORT THE ENTIRE DATA W.R.T NO .OF COMFIRM CASES  IN ASCENDING ORDER ?"
      ],
      "metadata": {
        "id": "aC185RT52say"
      }
    },
    {
      "cell_type": "code",
      "source": [
        "data.sort_values(by = [\"Confirmed\"], ascending = True)"
      ],
      "metadata": {
        "id": "4NmTUshEvLLv"
      },
      "execution_count": null,
      "outputs": []
    },
    {
      "cell_type": "markdown",
      "source": [
        "Q)7.  SORT THE ENTIRE DATA W.R.T NO .OF RECORDED CASES IN DESCENDING ORDER  ?\n"
      ],
      "metadata": {
        "id": "2vop_weg2_5F"
      }
    },
    {
      "cell_type": "code",
      "source": [
        "data.sort_values(by = [\"Recovered\"], ascending = False)"
      ],
      "metadata": {
        "id": "pnc-rTm6vbSl"
      },
      "execution_count": null,
      "outputs": []
    }
  ]
}